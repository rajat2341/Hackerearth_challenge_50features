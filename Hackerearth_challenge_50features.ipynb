{
 "cells": [
  {
   "cell_type": "code",
   "execution_count": 46,
   "metadata": {},
   "outputs": [],
   "source": [
    "import pandas as pd\n",
    "import numpy as np\n",
    "import matplotlib.pyplot as plt\n",
    "%matplotlib inline\n",
    "import seaborn as sns\n",
    "import warnings\n",
    "warnings.filterwarnings(\"ignore\")\n",
    "import lightgbm as lgb\n",
    "import time"
   ]
  },
  {
   "cell_type": "code",
   "execution_count": 173,
   "metadata": {},
   "outputs": [],
   "source": [
    "train = pd.read_csv(\"train.csv\")\n",
    "test = pd.read_csv(\"test.csv\")"
   ]
  },
  {
   "cell_type": "code",
   "execution_count": 79,
   "metadata": {},
   "outputs": [
    {
     "data": {
      "text/html": [
       "<div>\n",
       "<style scoped>\n",
       "    .dataframe tbody tr th:only-of-type {\n",
       "        vertical-align: middle;\n",
       "    }\n",
       "\n",
       "    .dataframe tbody tr th {\n",
       "        vertical-align: top;\n",
       "    }\n",
       "\n",
       "    .dataframe thead th {\n",
       "        text-align: right;\n",
       "    }\n",
       "</style>\n",
       "<table border=\"1\" class=\"dataframe\">\n",
       "  <thead>\n",
       "    <tr style=\"text-align: right;\">\n",
       "      <th></th>\n",
       "      <th>ID</th>\n",
       "      <th>para_0</th>\n",
       "      <th>para_1</th>\n",
       "      <th>para_2</th>\n",
       "      <th>para_3</th>\n",
       "      <th>para_4</th>\n",
       "      <th>para_5</th>\n",
       "      <th>para_6</th>\n",
       "      <th>para_7</th>\n",
       "      <th>para_8</th>\n",
       "      <th>...</th>\n",
       "      <th>para_41</th>\n",
       "      <th>para_42</th>\n",
       "      <th>para_43</th>\n",
       "      <th>para_44</th>\n",
       "      <th>para_45</th>\n",
       "      <th>para_46</th>\n",
       "      <th>para_47</th>\n",
       "      <th>para_48</th>\n",
       "      <th>para_49</th>\n",
       "      <th>para_50</th>\n",
       "    </tr>\n",
       "  </thead>\n",
       "  <tbody>\n",
       "    <tr>\n",
       "      <th>count</th>\n",
       "      <td>1529.000000</td>\n",
       "      <td>1529.000000</td>\n",
       "      <td>1529.000000</td>\n",
       "      <td>1529.000000</td>\n",
       "      <td>1529.000000</td>\n",
       "      <td>1529.000000</td>\n",
       "      <td>1529.000000</td>\n",
       "      <td>1529.000000</td>\n",
       "      <td>1529.000000</td>\n",
       "      <td>1529.000000</td>\n",
       "      <td>...</td>\n",
       "      <td>1529.000000</td>\n",
       "      <td>1529.000000</td>\n",
       "      <td>1529.000000</td>\n",
       "      <td>1529.000000</td>\n",
       "      <td>1529.000000</td>\n",
       "      <td>1529.000000</td>\n",
       "      <td>1529.000000</td>\n",
       "      <td>1529.000000</td>\n",
       "      <td>1529.000000</td>\n",
       "      <td>1529.000000</td>\n",
       "    </tr>\n",
       "    <tr>\n",
       "      <th>mean</th>\n",
       "      <td>765.000000</td>\n",
       "      <td>0.069654</td>\n",
       "      <td>0.111695</td>\n",
       "      <td>-0.009978</td>\n",
       "      <td>0.097618</td>\n",
       "      <td>0.082743</td>\n",
       "      <td>-0.015951</td>\n",
       "      <td>-0.067474</td>\n",
       "      <td>0.037059</td>\n",
       "      <td>-0.008404</td>\n",
       "      <td>...</td>\n",
       "      <td>0.013182</td>\n",
       "      <td>0.004207</td>\n",
       "      <td>-0.017619</td>\n",
       "      <td>-0.050971</td>\n",
       "      <td>-0.023989</td>\n",
       "      <td>-0.017956</td>\n",
       "      <td>-0.031104</td>\n",
       "      <td>0.059441</td>\n",
       "      <td>-0.007068</td>\n",
       "      <td>-0.057702</td>\n",
       "    </tr>\n",
       "    <tr>\n",
       "      <th>std</th>\n",
       "      <td>441.528595</td>\n",
       "      <td>0.947575</td>\n",
       "      <td>0.945773</td>\n",
       "      <td>0.987775</td>\n",
       "      <td>0.956611</td>\n",
       "      <td>0.934664</td>\n",
       "      <td>0.984815</td>\n",
       "      <td>0.939831</td>\n",
       "      <td>1.186972</td>\n",
       "      <td>0.930947</td>\n",
       "      <td>...</td>\n",
       "      <td>1.169319</td>\n",
       "      <td>1.400927</td>\n",
       "      <td>0.987537</td>\n",
       "      <td>1.012380</td>\n",
       "      <td>0.992718</td>\n",
       "      <td>0.986140</td>\n",
       "      <td>0.965602</td>\n",
       "      <td>0.950242</td>\n",
       "      <td>1.018283</td>\n",
       "      <td>0.962334</td>\n",
       "    </tr>\n",
       "    <tr>\n",
       "      <th>min</th>\n",
       "      <td>1.000000</td>\n",
       "      <td>-1.105200</td>\n",
       "      <td>-3.735600</td>\n",
       "      <td>-0.984110</td>\n",
       "      <td>-1.065200</td>\n",
       "      <td>-1.239500</td>\n",
       "      <td>-0.880580</td>\n",
       "      <td>-1.763800</td>\n",
       "      <td>-0.826370</td>\n",
       "      <td>-0.709950</td>\n",
       "      <td>...</td>\n",
       "      <td>-0.163740</td>\n",
       "      <td>-0.112290</td>\n",
       "      <td>-0.578340</td>\n",
       "      <td>-2.403700</td>\n",
       "      <td>-0.545410</td>\n",
       "      <td>-0.556780</td>\n",
       "      <td>-0.489900</td>\n",
       "      <td>-0.784590</td>\n",
       "      <td>-0.464860</td>\n",
       "      <td>-2.131800</td>\n",
       "    </tr>\n",
       "    <tr>\n",
       "      <th>25%</th>\n",
       "      <td>383.000000</td>\n",
       "      <td>-0.555570</td>\n",
       "      <td>-0.031557</td>\n",
       "      <td>-0.598380</td>\n",
       "      <td>-0.568180</td>\n",
       "      <td>-0.525040</td>\n",
       "      <td>-0.618170</td>\n",
       "      <td>-0.845530</td>\n",
       "      <td>-0.417770</td>\n",
       "      <td>-0.363480</td>\n",
       "      <td>...</td>\n",
       "      <td>-0.163740</td>\n",
       "      <td>-0.112290</td>\n",
       "      <td>-0.578340</td>\n",
       "      <td>-0.562050</td>\n",
       "      <td>-0.545410</td>\n",
       "      <td>-0.556780</td>\n",
       "      <td>-0.489900</td>\n",
       "      <td>-0.561970</td>\n",
       "      <td>-0.464860</td>\n",
       "      <td>-0.293410</td>\n",
       "    </tr>\n",
       "    <tr>\n",
       "      <th>50%</th>\n",
       "      <td>765.000000</td>\n",
       "      <td>-0.175470</td>\n",
       "      <td>0.425360</td>\n",
       "      <td>-0.474750</td>\n",
       "      <td>-0.221150</td>\n",
       "      <td>-0.159160</td>\n",
       "      <td>-0.302150</td>\n",
       "      <td>0.234560</td>\n",
       "      <td>-0.281570</td>\n",
       "      <td>-0.200400</td>\n",
       "      <td>...</td>\n",
       "      <td>-0.163740</td>\n",
       "      <td>-0.112290</td>\n",
       "      <td>-0.511910</td>\n",
       "      <td>0.020510</td>\n",
       "      <td>-0.431850</td>\n",
       "      <td>-0.502570</td>\n",
       "      <td>-0.440060</td>\n",
       "      <td>-0.284940</td>\n",
       "      <td>-0.305720</td>\n",
       "      <td>0.196740</td>\n",
       "    </tr>\n",
       "    <tr>\n",
       "      <th>75%</th>\n",
       "      <td>1147.000000</td>\n",
       "      <td>0.644920</td>\n",
       "      <td>0.831520</td>\n",
       "      <td>0.256640</td>\n",
       "      <td>0.669570</td>\n",
       "      <td>0.562390</td>\n",
       "      <td>0.047707</td>\n",
       "      <td>0.629630</td>\n",
       "      <td>0.399430</td>\n",
       "      <td>0.181220</td>\n",
       "      <td>...</td>\n",
       "      <td>-0.163740</td>\n",
       "      <td>0.026975</td>\n",
       "      <td>-0.162090</td>\n",
       "      <td>0.990180</td>\n",
       "      <td>-0.170860</td>\n",
       "      <td>-0.209800</td>\n",
       "      <td>-0.254480</td>\n",
       "      <td>0.097298</td>\n",
       "      <td>0.088735</td>\n",
       "      <td>0.640380</td>\n",
       "    </tr>\n",
       "    <tr>\n",
       "      <th>max</th>\n",
       "      <td>1529.000000</td>\n",
       "      <td>2.009400</td>\n",
       "      <td>0.831520</td>\n",
       "      <td>2.738100</td>\n",
       "      <td>2.644800</td>\n",
       "      <td>2.366200</td>\n",
       "      <td>5.822100</td>\n",
       "      <td>1.413400</td>\n",
       "      <td>32.270000</td>\n",
       "      <td>11.019000</td>\n",
       "      <td>...</td>\n",
       "      <td>30.596000</td>\n",
       "      <td>54.273000</td>\n",
       "      <td>2.411100</td>\n",
       "      <td>0.990180</td>\n",
       "      <td>3.457600</td>\n",
       "      <td>2.479300</td>\n",
       "      <td>3.298200</td>\n",
       "      <td>2.257900</td>\n",
       "      <td>9.561500</td>\n",
       "      <td>0.932190</td>\n",
       "    </tr>\n",
       "  </tbody>\n",
       "</table>\n",
       "<p>8 rows × 52 columns</p>\n",
       "</div>"
      ],
      "text/plain": [
       "                ID       para_0       para_1       para_2       para_3  \\\n",
       "count  1529.000000  1529.000000  1529.000000  1529.000000  1529.000000   \n",
       "mean    765.000000     0.069654     0.111695    -0.009978     0.097618   \n",
       "std     441.528595     0.947575     0.945773     0.987775     0.956611   \n",
       "min       1.000000    -1.105200    -3.735600    -0.984110    -1.065200   \n",
       "25%     383.000000    -0.555570    -0.031557    -0.598380    -0.568180   \n",
       "50%     765.000000    -0.175470     0.425360    -0.474750    -0.221150   \n",
       "75%    1147.000000     0.644920     0.831520     0.256640     0.669570   \n",
       "max    1529.000000     2.009400     0.831520     2.738100     2.644800   \n",
       "\n",
       "            para_4       para_5       para_6       para_7       para_8  ...  \\\n",
       "count  1529.000000  1529.000000  1529.000000  1529.000000  1529.000000  ...   \n",
       "mean      0.082743    -0.015951    -0.067474     0.037059    -0.008404  ...   \n",
       "std       0.934664     0.984815     0.939831     1.186972     0.930947  ...   \n",
       "min      -1.239500    -0.880580    -1.763800    -0.826370    -0.709950  ...   \n",
       "25%      -0.525040    -0.618170    -0.845530    -0.417770    -0.363480  ...   \n",
       "50%      -0.159160    -0.302150     0.234560    -0.281570    -0.200400  ...   \n",
       "75%       0.562390     0.047707     0.629630     0.399430     0.181220  ...   \n",
       "max       2.366200     5.822100     1.413400    32.270000    11.019000  ...   \n",
       "\n",
       "           para_41      para_42      para_43      para_44      para_45  \\\n",
       "count  1529.000000  1529.000000  1529.000000  1529.000000  1529.000000   \n",
       "mean      0.013182     0.004207    -0.017619    -0.050971    -0.023989   \n",
       "std       1.169319     1.400927     0.987537     1.012380     0.992718   \n",
       "min      -0.163740    -0.112290    -0.578340    -2.403700    -0.545410   \n",
       "25%      -0.163740    -0.112290    -0.578340    -0.562050    -0.545410   \n",
       "50%      -0.163740    -0.112290    -0.511910     0.020510    -0.431850   \n",
       "75%      -0.163740     0.026975    -0.162090     0.990180    -0.170860   \n",
       "max      30.596000    54.273000     2.411100     0.990180     3.457600   \n",
       "\n",
       "           para_46      para_47      para_48      para_49      para_50  \n",
       "count  1529.000000  1529.000000  1529.000000  1529.000000  1529.000000  \n",
       "mean     -0.017956    -0.031104     0.059441    -0.007068    -0.057702  \n",
       "std       0.986140     0.965602     0.950242     1.018283     0.962334  \n",
       "min      -0.556780    -0.489900    -0.784590    -0.464860    -2.131800  \n",
       "25%      -0.556780    -0.489900    -0.561970    -0.464860    -0.293410  \n",
       "50%      -0.502570    -0.440060    -0.284940    -0.305720     0.196740  \n",
       "75%      -0.209800    -0.254480     0.097298     0.088735     0.640380  \n",
       "max       2.479300     3.298200     2.257900     9.561500     0.932190  \n",
       "\n",
       "[8 rows x 52 columns]"
      ]
     },
     "execution_count": 79,
     "metadata": {},
     "output_type": "execute_result"
    }
   ],
   "source": [
    "train.describe()"
   ]
  },
  {
   "cell_type": "code",
   "execution_count": 80,
   "metadata": {},
   "outputs": [
    {
     "data": {
      "text/html": [
       "<div>\n",
       "<style scoped>\n",
       "    .dataframe tbody tr th:only-of-type {\n",
       "        vertical-align: middle;\n",
       "    }\n",
       "\n",
       "    .dataframe tbody tr th {\n",
       "        vertical-align: top;\n",
       "    }\n",
       "\n",
       "    .dataframe thead th {\n",
       "        text-align: right;\n",
       "    }\n",
       "</style>\n",
       "<table border=\"1\" class=\"dataframe\">\n",
       "  <thead>\n",
       "    <tr style=\"text-align: right;\">\n",
       "      <th></th>\n",
       "      <th>ID</th>\n",
       "      <th>para_0</th>\n",
       "      <th>para_1</th>\n",
       "      <th>para_2</th>\n",
       "      <th>para_3</th>\n",
       "      <th>para_4</th>\n",
       "      <th>para_5</th>\n",
       "      <th>para_6</th>\n",
       "      <th>para_7</th>\n",
       "      <th>para_8</th>\n",
       "      <th>...</th>\n",
       "      <th>para_42</th>\n",
       "      <th>para_43</th>\n",
       "      <th>para_44</th>\n",
       "      <th>para_45</th>\n",
       "      <th>para_46</th>\n",
       "      <th>para_47</th>\n",
       "      <th>para_48</th>\n",
       "      <th>para_49</th>\n",
       "      <th>para_50</th>\n",
       "      <th>Result</th>\n",
       "    </tr>\n",
       "  </thead>\n",
       "  <tbody>\n",
       "    <tr>\n",
       "      <th>0</th>\n",
       "      <td>1</td>\n",
       "      <td>0.97122</td>\n",
       "      <td>0.83152</td>\n",
       "      <td>-0.57052</td>\n",
       "      <td>0.99590</td>\n",
       "      <td>0.762820</td>\n",
       "      <td>0.032973</td>\n",
       "      <td>-0.69248</td>\n",
       "      <td>-0.55397</td>\n",
       "      <td>-0.473470</td>\n",
       "      <td>...</td>\n",
       "      <td>-0.112290</td>\n",
       "      <td>0.12326</td>\n",
       "      <td>0.990180</td>\n",
       "      <td>-0.50457</td>\n",
       "      <td>0.12478</td>\n",
       "      <td>0.36049</td>\n",
       "      <td>-0.10158</td>\n",
       "      <td>-0.36256</td>\n",
       "      <td>0.21309</td>\n",
       "      <td>h0</td>\n",
       "    </tr>\n",
       "    <tr>\n",
       "      <th>1</th>\n",
       "      <td>2</td>\n",
       "      <td>-0.47565</td>\n",
       "      <td>0.43977</td>\n",
       "      <td>-0.50892</td>\n",
       "      <td>-0.35476</td>\n",
       "      <td>-0.435490</td>\n",
       "      <td>-0.618170</td>\n",
       "      <td>0.62963</td>\n",
       "      <td>-0.28157</td>\n",
       "      <td>-0.229950</td>\n",
       "      <td>...</td>\n",
       "      <td>0.026975</td>\n",
       "      <td>-0.55423</td>\n",
       "      <td>0.004867</td>\n",
       "      <td>-0.28715</td>\n",
       "      <td>-0.55678</td>\n",
       "      <td>-0.48990</td>\n",
       "      <td>-0.56377</td>\n",
       "      <td>-0.22229</td>\n",
       "      <td>0.63568</td>\n",
       "      <td>h0</td>\n",
       "    </tr>\n",
       "    <tr>\n",
       "      <th>2</th>\n",
       "      <td>3</td>\n",
       "      <td>-0.48641</td>\n",
       "      <td>-0.26590</td>\n",
       "      <td>-0.71295</td>\n",
       "      <td>-0.42638</td>\n",
       "      <td>-0.022972</td>\n",
       "      <td>-0.336080</td>\n",
       "      <td>0.15184</td>\n",
       "      <td>-0.28157</td>\n",
       "      <td>-0.227910</td>\n",
       "      <td>...</td>\n",
       "      <td>0.026975</td>\n",
       "      <td>-0.46864</td>\n",
       "      <td>-1.242700</td>\n",
       "      <td>-0.49820</td>\n",
       "      <td>-0.47720</td>\n",
       "      <td>-0.41047</td>\n",
       "      <td>0.22427</td>\n",
       "      <td>-0.21519</td>\n",
       "      <td>-0.16009</td>\n",
       "      <td>h3</td>\n",
       "    </tr>\n",
       "    <tr>\n",
       "      <th>3</th>\n",
       "      <td>4</td>\n",
       "      <td>-0.99236</td>\n",
       "      <td>-1.06970</td>\n",
       "      <td>-0.87621</td>\n",
       "      <td>-0.98453</td>\n",
       "      <td>-0.091183</td>\n",
       "      <td>-0.701840</td>\n",
       "      <td>0.35559</td>\n",
       "      <td>0.26323</td>\n",
       "      <td>0.138290</td>\n",
       "      <td>...</td>\n",
       "      <td>0.096610</td>\n",
       "      <td>-0.41310</td>\n",
       "      <td>-1.244000</td>\n",
       "      <td>-0.53871</td>\n",
       "      <td>-0.41947</td>\n",
       "      <td>-0.31858</td>\n",
       "      <td>0.63729</td>\n",
       "      <td>-0.21295</td>\n",
       "      <td>-0.57671</td>\n",
       "      <td>h0</td>\n",
       "    </tr>\n",
       "    <tr>\n",
       "      <th>4</th>\n",
       "      <td>5</td>\n",
       "      <td>-0.45878</td>\n",
       "      <td>-0.55809</td>\n",
       "      <td>-0.28180</td>\n",
       "      <td>-0.50519</td>\n",
       "      <td>-0.424630</td>\n",
       "      <td>0.050215</td>\n",
       "      <td>0.35867</td>\n",
       "      <td>0.67183</td>\n",
       "      <td>0.045001</td>\n",
       "      <td>...</td>\n",
       "      <td>0.305510</td>\n",
       "      <td>-0.57834</td>\n",
       "      <td>-1.519900</td>\n",
       "      <td>-0.46202</td>\n",
       "      <td>-0.55678</td>\n",
       "      <td>-0.48990</td>\n",
       "      <td>-0.27750</td>\n",
       "      <td>-0.46486</td>\n",
       "      <td>0.42153</td>\n",
       "      <td>h0</td>\n",
       "    </tr>\n",
       "  </tbody>\n",
       "</table>\n",
       "<p>5 rows × 53 columns</p>\n",
       "</div>"
      ],
      "text/plain": [
       "   ID   para_0   para_1   para_2   para_3    para_4    para_5   para_6  \\\n",
       "0   1  0.97122  0.83152 -0.57052  0.99590  0.762820  0.032973 -0.69248   \n",
       "1   2 -0.47565  0.43977 -0.50892 -0.35476 -0.435490 -0.618170  0.62963   \n",
       "2   3 -0.48641 -0.26590 -0.71295 -0.42638 -0.022972 -0.336080  0.15184   \n",
       "3   4 -0.99236 -1.06970 -0.87621 -0.98453 -0.091183 -0.701840  0.35559   \n",
       "4   5 -0.45878 -0.55809 -0.28180 -0.50519 -0.424630  0.050215  0.35867   \n",
       "\n",
       "    para_7    para_8  ...   para_42  para_43   para_44  para_45  para_46  \\\n",
       "0 -0.55397 -0.473470  ... -0.112290  0.12326  0.990180 -0.50457  0.12478   \n",
       "1 -0.28157 -0.229950  ...  0.026975 -0.55423  0.004867 -0.28715 -0.55678   \n",
       "2 -0.28157 -0.227910  ...  0.026975 -0.46864 -1.242700 -0.49820 -0.47720   \n",
       "3  0.26323  0.138290  ...  0.096610 -0.41310 -1.244000 -0.53871 -0.41947   \n",
       "4  0.67183  0.045001  ...  0.305510 -0.57834 -1.519900 -0.46202 -0.55678   \n",
       "\n",
       "   para_47  para_48  para_49  para_50  Result  \n",
       "0  0.36049 -0.10158 -0.36256  0.21309      h0  \n",
       "1 -0.48990 -0.56377 -0.22229  0.63568      h0  \n",
       "2 -0.41047  0.22427 -0.21519 -0.16009      h3  \n",
       "3 -0.31858  0.63729 -0.21295 -0.57671      h0  \n",
       "4 -0.48990 -0.27750 -0.46486  0.42153      h0  \n",
       "\n",
       "[5 rows x 53 columns]"
      ]
     },
     "execution_count": 80,
     "metadata": {},
     "output_type": "execute_result"
    }
   ],
   "source": [
    "train.head()"
   ]
  },
  {
   "cell_type": "markdown",
   "metadata": {},
   "source": [
    "# Checking highly correlated variables"
   ]
  },
  {
   "cell_type": "code",
   "execution_count": 129,
   "metadata": {
    "scrolled": true
   },
   "outputs": [
    {
     "name": "stdout",
     "output_type": "stream",
     "text": [
      "para_13 para_31\n"
     ]
    }
   ],
   "source": [
    "#Checking pair of Variables which has correlation greater than or less than 0.9\n",
    "for i in range(51):\n",
    "  for j in range(i, 51):\n",
    "    k = np.corrcoef(train.iloc[:,i],train.iloc[:,j])\n",
    "    y = int(k[0][1])\n",
    "    if ((y>0.9 or y<-0.9) and i!=j):\n",
    "      print(train.columns[i],train.columns[j])"
   ]
  },
  {
   "cell_type": "markdown",
   "metadata": {},
   "source": [
    "we can see, only para_13 and para_31 are highly correlated."
   ]
  },
  {
   "cell_type": "markdown",
   "metadata": {},
   "source": [
    "# Model Building"
   ]
  },
  {
   "cell_type": "code",
   "execution_count": 50,
   "metadata": {},
   "outputs": [],
   "source": [
    "from sklearn.metrics import accuracy_score\n",
    "from sklearn.linear_model import LogisticRegression\n",
    "from sklearn.ensemble import RandomForestClassifier\n",
    "from sklearn.model_selection import train_test_split\n",
    "from sklearn.model_selection import StratifiedKFold"
   ]
  },
  {
   "cell_type": "code",
   "execution_count": 174,
   "metadata": {},
   "outputs": [],
   "source": [
    "X = train.drop(['Result', 'ID'], axis = 1)\n",
    "y = train['Result']"
   ]
  },
  {
   "cell_type": "code",
   "execution_count": 169,
   "metadata": {},
   "outputs": [],
   "source": [
    "X_train,X_valid,y_train,y_valid = train_test_split(X,y,random_state = 7)"
   ]
  },
  {
   "cell_type": "markdown",
   "metadata": {},
   "source": [
    "# Logistic regression"
   ]
  },
  {
   "cell_type": "code",
   "execution_count": 151,
   "metadata": {},
   "outputs": [
    {
     "name": "stdout",
     "output_type": "stream",
     "text": [
      "accuracy_score 0.5296684118673648\n"
     ]
    }
   ],
   "source": [
    "#Calculating accuracy on training set.\n",
    "model = LogisticRegression(random_state=1)\n",
    "model.fit(X_train, y_train)\n",
    "pred_test = model.predict(X_train)\n",
    "score = accuracy_score(y_train,pred_test)\n",
    "print('accuracy_score',score)"
   ]
  },
  {
   "cell_type": "code",
   "execution_count": 216,
   "metadata": {},
   "outputs": [
    {
     "name": "stdout",
     "output_type": "stream",
     "text": [
      "accuracy_score 0.3838120104438642\n"
     ]
    }
   ],
   "source": [
    "#Calculating accuracy on validation set.\n",
    "model = LogisticRegression(random_state=1)\n",
    "model.fit(X_train, y_train)\n",
    "pred_test = model.predict(X_valid)\n",
    "score = accuracy_score(y_valid,pred_test)\n",
    "print('accuracy_score',score)"
   ]
  },
  {
   "cell_type": "markdown",
   "metadata": {},
   "source": [
    "As, we can see model is overfitting so we will use l2 regualrization ('ridge') as we have checked all the variables are important."
   ]
  },
  {
   "cell_type": "code",
   "execution_count": 155,
   "metadata": {},
   "outputs": [
    {
     "name": "stdout",
     "output_type": "stream",
     "text": [
      "accuracy_score 0.45430809399477806\n"
     ]
    }
   ],
   "source": [
    "model = LogisticRegression(random_state=1, penalty = 'l2')\n",
    "model.fit(X_train, y_train)\n",
    "pred_test = model.predict(X_valid)\n",
    "score = accuracy_score(y_valid,pred_test)\n",
    "print('accuracy_score',score)"
   ]
  },
  {
   "cell_type": "markdown",
   "metadata": {},
   "source": [
    "There is not much increase in the accuracy. so we will be going with random forest classsifier as it works well in the overfitting case."
   ]
  },
  {
   "cell_type": "markdown",
   "metadata": {},
   "source": [
    "# Random Forecast Classifier"
   ]
  },
  {
   "cell_type": "code",
   "execution_count": 141,
   "metadata": {},
   "outputs": [
    {
     "name": "stdout",
     "output_type": "stream",
     "text": [
      "accuracy_score 0.587260034904014\n"
     ]
    }
   ],
   "source": [
    "#Calculating accuracy on training set.\n",
    "model = RandomForestClassifier(random_state=1, max_depth=5, n_estimators=20)\n",
    "model.fit(X_train, y_train)\n",
    "pred_test = model.predict(X_train)\n",
    "score = accuracy_score(y_train,pred_test)\n",
    "print('accuracy_score',score)"
   ]
  },
  {
   "cell_type": "code",
   "execution_count": 142,
   "metadata": {},
   "outputs": [
    {
     "name": "stdout",
     "output_type": "stream",
     "text": [
      "accuracy_score 0.4856396866840731\n"
     ]
    }
   ],
   "source": [
    "#Calculating accuracy on validation set.\n",
    "model = RandomForestClassifier(random_state=1, max_depth=5, n_estimators=20)\n",
    "model.fit(X_train, y_train)\n",
    "pred_test = model.predict(X_valid)\n",
    "score = accuracy_score(y_valid,pred_test)\n",
    "print('accuracy_score',score)"
   ]
  },
  {
   "cell_type": "markdown",
   "metadata": {},
   "source": [
    "as we can see there is increase in the accuracy and overfitting is still there, so we will be trying feature selection using feature importances property of random forest classfier"
   ]
  },
  {
   "cell_type": "code",
   "execution_count": 143,
   "metadata": {},
   "outputs": [
    {
     "name": "stdout",
     "output_type": "stream",
     "text": [
      "\n",
      "1 of kfold 5\n",
      "accuracy_score 0.5357142857142857\n",
      "\n",
      "2 of kfold 5\n",
      "accuracy_score 0.5504885993485342\n",
      "\n",
      "3 of kfold 5\n",
      "accuracy_score 0.5751633986928104\n",
      "\n",
      "4 of kfold 5\n",
      "accuracy_score 0.521311475409836\n",
      "\n",
      "5 of kfold 5\n",
      "accuracy_score 0.5346534653465347\n"
     ]
    }
   ],
   "source": [
    "# Applying 5 Fold cross validation technique with random forest.\n",
    "i=1\n",
    "kf = StratifiedKFold(n_splits=5,random_state=1,shuffle=True)\n",
    "for train_index,test_index in kf.split(X,y):\n",
    "     print('\\n{} of kfold {}'.format(i,kf.n_splits))\n",
    "     xtr,xvl = X.loc[train_index],X.loc[test_index]\n",
    "     ytr,yvl = y[train_index],y[test_index]\n",
    "    \n",
    "     model = RandomForestClassifier(random_state=100, max_depth=400, n_estimators=40)\n",
    "     model.fit(xtr, ytr)\n",
    "     pred_test = model.predict(xvl)\n",
    "     score = accuracy_score(yvl,pred_test)\n",
    "     print('accuracy_score',score)\n",
    "     i+=1\n",
    "pred_test = model.predict(X)\n",
    "pred=model.predict_proba(xvl)[:,1]"
   ]
  },
  {
   "cell_type": "code",
   "execution_count": 144,
   "metadata": {},
   "outputs": [],
   "source": [
    "#Applying feature importances property of RFC and selecting best features.\n",
    "X1 = list(zip(model.feature_importances_, np.array(train.columns)))"
   ]
  },
  {
   "cell_type": "code",
   "execution_count": 189,
   "metadata": {},
   "outputs": [
    {
     "data": {
      "text/plain": [
       "[(0.03813828025333833, 'para_13'),\n",
       " (0.03778998294847527, 'para_11'),\n",
       " (0.032897440703864564, 'para_23'),\n",
       " (0.031793437252071295, 'para_25'),\n",
       " (0.031433537064833206, 'para_15')]"
      ]
     },
     "execution_count": 189,
     "metadata": {},
     "output_type": "execute_result"
    }
   ],
   "source": [
    "X1.sort(reverse = True)\n",
    "X1[:5]"
   ]
  },
  {
   "cell_type": "code",
   "execution_count": 190,
   "metadata": {},
   "outputs": [
    {
     "data": {
      "text/plain": [
       "['para_13', 'para_11', 'para_23', 'para_25', 'para_15']"
      ]
     },
     "execution_count": 190,
     "metadata": {},
     "output_type": "execute_result"
    }
   ],
   "source": [
    "feature = []\n",
    "for i in range(20):\n",
    "    feature.append(X1[i][1])\n",
    "feature[:5]"
   ]
  },
  {
   "cell_type": "code",
   "execution_count": 148,
   "metadata": {},
   "outputs": [],
   "source": [
    "df1 = train[feature]"
   ]
  },
  {
   "cell_type": "code",
   "execution_count": 149,
   "metadata": {},
   "outputs": [
    {
     "data": {
      "text/html": [
       "<div>\n",
       "<style scoped>\n",
       "    .dataframe tbody tr th:only-of-type {\n",
       "        vertical-align: middle;\n",
       "    }\n",
       "\n",
       "    .dataframe tbody tr th {\n",
       "        vertical-align: top;\n",
       "    }\n",
       "\n",
       "    .dataframe thead th {\n",
       "        text-align: right;\n",
       "    }\n",
       "</style>\n",
       "<table border=\"1\" class=\"dataframe\">\n",
       "  <thead>\n",
       "    <tr style=\"text-align: right;\">\n",
       "      <th></th>\n",
       "      <th>para_13</th>\n",
       "      <th>para_11</th>\n",
       "      <th>para_23</th>\n",
       "      <th>para_25</th>\n",
       "      <th>para_15</th>\n",
       "      <th>para_21</th>\n",
       "      <th>para_3</th>\n",
       "      <th>para_27</th>\n",
       "      <th>para_35</th>\n",
       "      <th>para_17</th>\n",
       "      <th>para_9</th>\n",
       "      <th>para_1</th>\n",
       "      <th>para_2</th>\n",
       "      <th>para_37</th>\n",
       "      <th>para_7</th>\n",
       "      <th>para_43</th>\n",
       "      <th>para_14</th>\n",
       "      <th>para_29</th>\n",
       "      <th>para_10</th>\n",
       "      <th>para_5</th>\n",
       "    </tr>\n",
       "  </thead>\n",
       "  <tbody>\n",
       "    <tr>\n",
       "      <th>0</th>\n",
       "      <td>-1.03800</td>\n",
       "      <td>-0.34908</td>\n",
       "      <td>-0.271410</td>\n",
       "      <td>0.42440</td>\n",
       "      <td>0.35957</td>\n",
       "      <td>0.335740</td>\n",
       "      <td>0.99590</td>\n",
       "      <td>-0.091193</td>\n",
       "      <td>-0.35232</td>\n",
       "      <td>0.586730</td>\n",
       "      <td>-0.09707</td>\n",
       "      <td>0.83152</td>\n",
       "      <td>-0.57052</td>\n",
       "      <td>-0.340320</td>\n",
       "      <td>-0.55397</td>\n",
       "      <td>0.12326</td>\n",
       "      <td>-0.192460</td>\n",
       "      <td>-0.44033</td>\n",
       "      <td>1.39640</td>\n",
       "      <td>0.032973</td>\n",
       "    </tr>\n",
       "    <tr>\n",
       "      <th>1</th>\n",
       "      <td>0.65202</td>\n",
       "      <td>1.36080</td>\n",
       "      <td>-0.304380</td>\n",
       "      <td>0.18967</td>\n",
       "      <td>0.57901</td>\n",
       "      <td>0.020912</td>\n",
       "      <td>-0.35476</td>\n",
       "      <td>-0.088506</td>\n",
       "      <td>-0.22369</td>\n",
       "      <td>0.586730</td>\n",
       "      <td>2.35250</td>\n",
       "      <td>0.43977</td>\n",
       "      <td>-0.50892</td>\n",
       "      <td>-0.262150</td>\n",
       "      <td>-0.28157</td>\n",
       "      <td>-0.55423</td>\n",
       "      <td>-0.115130</td>\n",
       "      <td>-0.24267</td>\n",
       "      <td>1.23590</td>\n",
       "      <td>-0.618170</td>\n",
       "    </tr>\n",
       "    <tr>\n",
       "      <th>2</th>\n",
       "      <td>0.45319</td>\n",
       "      <td>1.36080</td>\n",
       "      <td>-0.477500</td>\n",
       "      <td>-0.91991</td>\n",
       "      <td>-1.20690</td>\n",
       "      <td>-1.653900</td>\n",
       "      <td>-0.42638</td>\n",
       "      <td>-0.118230</td>\n",
       "      <td>-0.35232</td>\n",
       "      <td>0.020298</td>\n",
       "      <td>2.35250</td>\n",
       "      <td>-0.26590</td>\n",
       "      <td>-0.71295</td>\n",
       "      <td>1.786300</td>\n",
       "      <td>-0.28157</td>\n",
       "      <td>-0.46864</td>\n",
       "      <td>-0.029048</td>\n",
       "      <td>-0.24267</td>\n",
       "      <td>0.58322</td>\n",
       "      <td>-0.336080</td>\n",
       "    </tr>\n",
       "    <tr>\n",
       "      <th>3</th>\n",
       "      <td>0.75143</td>\n",
       "      <td>-0.25672</td>\n",
       "      <td>0.003369</td>\n",
       "      <td>-0.24367</td>\n",
       "      <td>-1.03100</td>\n",
       "      <td>0.020912</td>\n",
       "      <td>-0.98453</td>\n",
       "      <td>-0.111510</td>\n",
       "      <td>-0.35232</td>\n",
       "      <td>-0.042639</td>\n",
       "      <td>-0.64141</td>\n",
       "      <td>-1.06970</td>\n",
       "      <td>-0.87621</td>\n",
       "      <td>0.839770</td>\n",
       "      <td>0.26323</td>\n",
       "      <td>-0.41310</td>\n",
       "      <td>-0.141110</td>\n",
       "      <td>-0.44033</td>\n",
       "      <td>-0.44791</td>\n",
       "      <td>-0.701840</td>\n",
       "    </tr>\n",
       "    <tr>\n",
       "      <th>4</th>\n",
       "      <td>0.35378</td>\n",
       "      <td>-0.23825</td>\n",
       "      <td>0.003369</td>\n",
       "      <td>0.18967</td>\n",
       "      <td>0.88399</td>\n",
       "      <td>0.020912</td>\n",
       "      <td>-0.50519</td>\n",
       "      <td>-0.103500</td>\n",
       "      <td>-0.35232</td>\n",
       "      <td>0.586730</td>\n",
       "      <td>-0.64141</td>\n",
       "      <td>-0.55809</td>\n",
       "      <td>-0.28180</td>\n",
       "      <td>-0.056837</td>\n",
       "      <td>0.67183</td>\n",
       "      <td>-0.57834</td>\n",
       "      <td>-0.157740</td>\n",
       "      <td>-0.24267</td>\n",
       "      <td>-0.64092</td>\n",
       "      <td>0.050215</td>\n",
       "    </tr>\n",
       "  </tbody>\n",
       "</table>\n",
       "</div>"
      ],
      "text/plain": [
       "   para_13  para_11   para_23  para_25  para_15   para_21   para_3   para_27  \\\n",
       "0 -1.03800 -0.34908 -0.271410  0.42440  0.35957  0.335740  0.99590 -0.091193   \n",
       "1  0.65202  1.36080 -0.304380  0.18967  0.57901  0.020912 -0.35476 -0.088506   \n",
       "2  0.45319  1.36080 -0.477500 -0.91991 -1.20690 -1.653900 -0.42638 -0.118230   \n",
       "3  0.75143 -0.25672  0.003369 -0.24367 -1.03100  0.020912 -0.98453 -0.111510   \n",
       "4  0.35378 -0.23825  0.003369  0.18967  0.88399  0.020912 -0.50519 -0.103500   \n",
       "\n",
       "   para_35   para_17   para_9   para_1   para_2   para_37   para_7  para_43  \\\n",
       "0 -0.35232  0.586730 -0.09707  0.83152 -0.57052 -0.340320 -0.55397  0.12326   \n",
       "1 -0.22369  0.586730  2.35250  0.43977 -0.50892 -0.262150 -0.28157 -0.55423   \n",
       "2 -0.35232  0.020298  2.35250 -0.26590 -0.71295  1.786300 -0.28157 -0.46864   \n",
       "3 -0.35232 -0.042639 -0.64141 -1.06970 -0.87621  0.839770  0.26323 -0.41310   \n",
       "4 -0.35232  0.586730 -0.64141 -0.55809 -0.28180 -0.056837  0.67183 -0.57834   \n",
       "\n",
       "    para_14  para_29  para_10    para_5  \n",
       "0 -0.192460 -0.44033  1.39640  0.032973  \n",
       "1 -0.115130 -0.24267  1.23590 -0.618170  \n",
       "2 -0.029048 -0.24267  0.58322 -0.336080  \n",
       "3 -0.141110 -0.44033 -0.44791 -0.701840  \n",
       "4 -0.157740 -0.24267 -0.64092  0.050215  "
      ]
     },
     "execution_count": 149,
     "metadata": {},
     "output_type": "execute_result"
    }
   ],
   "source": [
    "df1.head()"
   ]
  },
  {
   "cell_type": "code",
   "execution_count": 157,
   "metadata": {},
   "outputs": [],
   "source": [
    "df1X_train, df1X_valid, df1y_train, df1y_valid = train_test_split(df1,y,random_state = 7)"
   ]
  },
  {
   "cell_type": "code",
   "execution_count": 160,
   "metadata": {},
   "outputs": [
    {
     "name": "stdout",
     "output_type": "stream",
     "text": [
      "accuracy_score 0.5863874345549738\n"
     ]
    }
   ],
   "source": [
    "#Calculating accuracy on training set.\n",
    "model = RandomForestClassifier(random_state=1, max_depth=5, n_estimators=20)\n",
    "model.fit(df1X_train, df1y_train)\n",
    "pred_test = model.predict(df1X_train)\n",
    "score = accuracy_score(df1y_train,pred_test)\n",
    "print('accuracy_score',score)"
   ]
  },
  {
   "cell_type": "code",
   "execution_count": 161,
   "metadata": {},
   "outputs": [
    {
     "name": "stdout",
     "output_type": "stream",
     "text": [
      "accuracy_score 0.48825065274151436\n"
     ]
    }
   ],
   "source": [
    "#Calculating accuracy on validation set.\n",
    "model = RandomForestClassifier(random_state=1, max_depth=5, n_estimators=20)\n",
    "model.fit(df1X_train, df1y_train)\n",
    "pred_test = model.predict(df1X_valid)\n",
    "score = accuracy_score(df1y_valid,pred_test)\n",
    "print('accuracy_score',score)"
   ]
  },
  {
   "cell_type": "code",
   "execution_count": 164,
   "metadata": {},
   "outputs": [
    {
     "name": "stdout",
     "output_type": "stream",
     "text": [
      "\n",
      "1 of kfold 5\n",
      "accuracy_score 0.551948051948052\n",
      "\n",
      "2 of kfold 5\n",
      "accuracy_score 0.5798045602605864\n",
      "\n",
      "3 of kfold 5\n",
      "accuracy_score 0.5784313725490197\n",
      "\n",
      "4 of kfold 5\n",
      "accuracy_score 0.49836065573770494\n",
      "\n",
      "5 of kfold 5\n",
      "accuracy_score 0.528052805280528\n"
     ]
    }
   ],
   "source": [
    "#Applying 5 fold cross vaidation technique with RFC\n",
    "i=1\n",
    "kf = StratifiedKFold(n_splits=5,random_state=1,shuffle=True)\n",
    "for train_index,test_index in kf.split(df1,y):\n",
    "     print('\\n{} of kfold {}'.format(i,kf.n_splits))\n",
    "     xtr,xvl = df1.loc[train_index],df1.loc[test_index]\n",
    "     ytr,yvl = y[train_index],y[test_index]\n",
    "    \n",
    "     model = RandomForestClassifier(random_state=100, max_depth=400, n_estimators=40)\n",
    "     model.fit(xtr, ytr)\n",
    "     pred_test = model.predict(xvl)\n",
    "     score = accuracy_score(yvl,pred_test)\n",
    "     print('accuracy_score',score)\n",
    "     i+=1\n",
    "pred_test = model.predict(df1)\n",
    "pred=model.predict_proba(xvl)[:,1]"
   ]
  },
  {
   "cell_type": "markdown",
   "metadata": {},
   "source": [
    "RFC 'feature importances' property of Feature selection also not much helped in increasing accuracy. so we will try to go with PCA approach."
   ]
  },
  {
   "cell_type": "markdown",
   "metadata": {},
   "source": [
    "# Principal Component analysis"
   ]
  },
  {
   "cell_type": "code",
   "execution_count": 171,
   "metadata": {},
   "outputs": [],
   "source": [
    "from sklearn.decomposition import PCA\n",
    "pca = PCA(n_components=5)\n",
    "principalComponents = pca.fit_transform(X)\n",
    "principalDf = pd.DataFrame(data = principalComponents\n",
    "             , columns = ['principal component 1', 'principal component 2', 'principal component 3', 'principal component 4', 'principal component 5'])"
   ]
  },
  {
   "cell_type": "code",
   "execution_count": 175,
   "metadata": {},
   "outputs": [],
   "source": [
    "df = pd.concat([principalDf, train[['Result']]], axis = 1)"
   ]
  },
  {
   "cell_type": "code",
   "execution_count": 176,
   "metadata": {},
   "outputs": [
    {
     "data": {
      "text/html": [
       "<div>\n",
       "<style scoped>\n",
       "    .dataframe tbody tr th:only-of-type {\n",
       "        vertical-align: middle;\n",
       "    }\n",
       "\n",
       "    .dataframe tbody tr th {\n",
       "        vertical-align: top;\n",
       "    }\n",
       "\n",
       "    .dataframe thead th {\n",
       "        text-align: right;\n",
       "    }\n",
       "</style>\n",
       "<table border=\"1\" class=\"dataframe\">\n",
       "  <thead>\n",
       "    <tr style=\"text-align: right;\">\n",
       "      <th></th>\n",
       "      <th>principal component 1</th>\n",
       "      <th>principal component 2</th>\n",
       "      <th>principal component 3</th>\n",
       "      <th>principal component 4</th>\n",
       "      <th>principal component 5</th>\n",
       "      <th>Result</th>\n",
       "    </tr>\n",
       "  </thead>\n",
       "  <tbody>\n",
       "    <tr>\n",
       "      <th>0</th>\n",
       "      <td>1.511483</td>\n",
       "      <td>-0.868745</td>\n",
       "      <td>-1.312190</td>\n",
       "      <td>1.745070</td>\n",
       "      <td>0.908720</td>\n",
       "      <td>h0</td>\n",
       "    </tr>\n",
       "    <tr>\n",
       "      <th>1</th>\n",
       "      <td>-1.557520</td>\n",
       "      <td>-1.196824</td>\n",
       "      <td>0.483303</td>\n",
       "      <td>1.302437</td>\n",
       "      <td>-1.287330</td>\n",
       "      <td>h0</td>\n",
       "    </tr>\n",
       "    <tr>\n",
       "      <th>2</th>\n",
       "      <td>-1.242277</td>\n",
       "      <td>-0.786971</td>\n",
       "      <td>0.588879</td>\n",
       "      <td>-0.681749</td>\n",
       "      <td>0.167333</td>\n",
       "      <td>h3</td>\n",
       "    </tr>\n",
       "    <tr>\n",
       "      <th>3</th>\n",
       "      <td>-1.023769</td>\n",
       "      <td>-0.284157</td>\n",
       "      <td>0.837121</td>\n",
       "      <td>-1.514676</td>\n",
       "      <td>-0.680368</td>\n",
       "      <td>h0</td>\n",
       "    </tr>\n",
       "    <tr>\n",
       "      <th>4</th>\n",
       "      <td>-1.573470</td>\n",
       "      <td>-0.773423</td>\n",
       "      <td>1.629689</td>\n",
       "      <td>0.185221</td>\n",
       "      <td>-0.551976</td>\n",
       "      <td>h0</td>\n",
       "    </tr>\n",
       "  </tbody>\n",
       "</table>\n",
       "</div>"
      ],
      "text/plain": [
       "   principal component 1  principal component 2  principal component 3  \\\n",
       "0               1.511483              -0.868745              -1.312190   \n",
       "1              -1.557520              -1.196824               0.483303   \n",
       "2              -1.242277              -0.786971               0.588879   \n",
       "3              -1.023769              -0.284157               0.837121   \n",
       "4              -1.573470              -0.773423               1.629689   \n",
       "\n",
       "   principal component 4  principal component 5 Result  \n",
       "0               1.745070               0.908720     h0  \n",
       "1               1.302437              -1.287330     h0  \n",
       "2              -0.681749               0.167333     h3  \n",
       "3              -1.514676              -0.680368     h0  \n",
       "4               0.185221              -0.551976     h0  "
      ]
     },
     "execution_count": 176,
     "metadata": {},
     "output_type": "execute_result"
    }
   ],
   "source": [
    "df.head()"
   ]
  },
  {
   "cell_type": "code",
   "execution_count": 178,
   "metadata": {},
   "outputs": [],
   "source": [
    "dfX = df.drop(['Result'], axis = 1)\n",
    "dfy = df['Result']"
   ]
  },
  {
   "cell_type": "code",
   "execution_count": 179,
   "metadata": {},
   "outputs": [],
   "source": [
    "dfX_train, dfX_valid, dfy_train, dfy_valid = train_test_split(dfX,dfy,random_state = 7)"
   ]
  },
  {
   "cell_type": "code",
   "execution_count": 181,
   "metadata": {},
   "outputs": [
    {
     "name": "stdout",
     "output_type": "stream",
     "text": [
      "accuracy_score 0.5715532286212914\n"
     ]
    }
   ],
   "source": [
    "#Calculating accuracy on training set.\n",
    "model = RandomForestClassifier(random_state=1, max_depth=5, n_estimators=20)\n",
    "model.fit(dfX_train, dfy_train)\n",
    "pred_test = model.predict(dfX_train)\n",
    "score = accuracy_score(dfy_train,pred_test)\n",
    "print('accuracy_score',score)"
   ]
  },
  {
   "cell_type": "code",
   "execution_count": 180,
   "metadata": {},
   "outputs": [
    {
     "name": "stdout",
     "output_type": "stream",
     "text": [
      "accuracy_score 0.42036553524804177\n"
     ]
    }
   ],
   "source": [
    "#Calculating accuracy on vaidation set.\n",
    "model = RandomForestClassifier(random_state=1, max_depth=5, n_estimators=20)\n",
    "model.fit(dfX_train, dfy_train)\n",
    "pred_test = model.predict(dfX_valid)\n",
    "score = accuracy_score(dfy_valid,pred_test)\n",
    "print('accuracy_score',score)"
   ]
  },
  {
   "cell_type": "markdown",
   "metadata": {},
   "source": [
    "we can see that after applying PCA it decreases our accuracy and it was not an efficient approach. so i have tried one more algorithm LightGBM"
   ]
  },
  {
   "cell_type": "markdown",
   "metadata": {},
   "source": [
    "# Light Gradient Boosting "
   ]
  },
  {
   "cell_type": "code",
   "execution_count": 182,
   "metadata": {},
   "outputs": [],
   "source": [
    "reg = lgb.LGBMClassifier(boosting_type=\"rf\",\n",
    "                         num_leaves=165,\n",
    "                         colsample_bytree=.5,\n",
    "                         n_estimators=400,\n",
    "                         min_child_weight=5,\n",
    "                         min_child_samples=10,\n",
    "                         subsample=.632, # Standard RF bagging fraction\n",
    "                         subsample_freq=1,\n",
    "                         min_split_gain=0,\n",
    "                         reg_alpha=10, # Hard L1 regularization\n",
    "                         reg_lambda=0,\n",
    "                         n_jobs=3)"
   ]
  },
  {
   "cell_type": "code",
   "execution_count": 183,
   "metadata": {},
   "outputs": [
    {
     "name": "stdout",
     "output_type": "stream",
     "text": [
      "\n",
      "1 of kfold 5\n",
      "accuracy_score 0.44805194805194803\n",
      "\n",
      "2 of kfold 5\n",
      "accuracy_score 0.42671009771986973\n",
      "\n",
      "3 of kfold 5\n",
      "accuracy_score 0.4542483660130719\n",
      "\n",
      "4 of kfold 5\n",
      "accuracy_score 0.4426229508196721\n",
      "\n",
      "5 of kfold 5\n",
      "accuracy_score 0.43234323432343236\n"
     ]
    }
   ],
   "source": [
    "#applying 5 fold cross vaildation technique with LightGBM\n",
    "i=1\n",
    "kf = StratifiedKFold(n_splits=5,random_state=1,shuffle=True)\n",
    "for train_index,test_index in kf.split(X,y):\n",
    "    \n",
    "    print('\\n{} of kfold {}'.format(i,kf.n_splits))\n",
    "    xtr,xvl = X.loc[train_index],X.loc[test_index]\n",
    "    ytr,yvl = y[train_index],y[test_index]\n",
    "    \n",
    "     \n",
    "    reg.fit(xtr, ytr)\n",
    "    pred_test = reg.predict(xvl)\n",
    "    score = accuracy_score(yvl,pred_test)\n",
    "    print('accuracy_score',score)\n",
    "    i+=1"
   ]
  },
  {
   "cell_type": "code",
   "execution_count": 186,
   "metadata": {},
   "outputs": [
    {
     "name": "stdout",
     "output_type": "stream",
     "text": [
      "accuracy_score 0.4607329842931937\n"
     ]
    }
   ],
   "source": [
    "#Calculating accuracy on training set.\n",
    "reg.fit(X_train, y_train)\n",
    "pred_test = reg.predict(X_train)\n",
    "score = accuracy_score(y_train,pred_test)\n",
    "print('accuracy_score',score)"
   ]
  },
  {
   "cell_type": "code",
   "execution_count": 187,
   "metadata": {},
   "outputs": [
    {
     "name": "stdout",
     "output_type": "stream",
     "text": [
      "accuracy_score 0.3968668407310705\n"
     ]
    }
   ],
   "source": [
    "#Calculating accuracy on validation set.\n",
    "reg.fit(X_train, y_train)\n",
    "pred_test = reg.predict(X_valid)\n",
    "score = accuracy_score(y_valid,pred_test)\n",
    "print('accuracy_score',score)"
   ]
  },
  {
   "cell_type": "markdown",
   "metadata": {},
   "source": [
    "as we can see, it has also decreased our accuracy than before."
   ]
  },
  {
   "cell_type": "markdown",
   "metadata": {},
   "source": [
    "# PCA with SVM"
   ]
  },
  {
   "cell_type": "code",
   "execution_count": 191,
   "metadata": {},
   "outputs": [
    {
     "name": "stdout",
     "output_type": "stream",
     "text": [
      "              precision    recall  f1-score   support\n",
      "\n",
      "          h0       0.53      0.81      0.64       144\n",
      "          h1       0.38      0.23      0.28        71\n",
      "          h2       0.29      0.11      0.16        35\n",
      "          h3       0.44      0.37      0.40        49\n",
      "          h4       0.60      0.06      0.11        48\n",
      "          h5       0.29      0.50      0.36        36\n",
      "\n",
      "    accuracy                           0.46       383\n",
      "   macro avg       0.42      0.35      0.33       383\n",
      "weighted avg       0.46      0.46      0.41       383\n",
      "\n"
     ]
    },
    {
     "data": {
      "text/plain": [
       "<matplotlib.axes._subplots.AxesSubplot at 0x238553e12e8>"
      ]
     },
     "execution_count": 191,
     "metadata": {},
     "output_type": "execute_result"
    },
    {
     "data": {
      "image/png": "[encoded data removed]",
      "text/plain": [
       "<Figure size 432x288 with 2 Axes>"
      ]
     },
     "metadata": {
      "needs_background": "light"
     },
     "output_type": "display_data"
    }
   ],
   "source": [
    "from sklearn.decomposition import PCA\n",
    "from sklearn import svm\n",
    "from sklearn.pipeline import make_pipeline\n",
    "from sklearn.metrics import classification_report\n",
    "from sklearn.metrics import confusion_matrix\n",
    "\n",
    "pca = PCA()\n",
    "clf = svm.SVC(kernel='linear')\n",
    "\n",
    "pca_svm = make_pipeline(pca, clf)\n",
    "\n",
    "pca_svm.fit(X_train, y_train)\n",
    "\n",
    "y_pred = pca_svm.predict(X_valid)\n",
    "\n",
    "cm = confusion_matrix(y_valid, y_pred)\n",
    "\n",
    "print(classification_report(y_valid, y_pred))\n",
    "sns.heatmap(cm,annot=True,fmt=\"d\")"
   ]
  },
  {
   "cell_type": "markdown",
   "metadata": {},
   "source": [
    "As, we earlier seen that there is no linear relationship by correlation coefficient, so there can be non linear relationship. therefore applying t-SNE."
   ]
  },
  {
   "cell_type": "markdown",
   "metadata": {},
   "source": [
    "# t-SNE"
   ]
  },
  {
   "cell_type": "code",
   "execution_count": 193,
   "metadata": {},
   "outputs": [],
   "source": [
    "train.drop(['Result', 'ID'], axis = 1, inplace = True)"
   ]
  },
  {
   "cell_type": "code",
   "execution_count": 194,
   "metadata": {},
   "outputs": [],
   "source": [
    "#Converting dataframe to array.\n",
    "train = train.to_numpy()"
   ]
  },
  {
   "cell_type": "code",
   "execution_count": 195,
   "metadata": {},
   "outputs": [
    {
     "name": "stdout",
     "output_type": "stream",
     "text": [
      "(1529, 51)\n"
     ]
    }
   ],
   "source": [
    "#Standardizing the array with the standard scalar property.\n",
    "from sklearn.preprocessing import StandardScaler\n",
    "standardized_data = StandardScaler().fit_transform(train)\n",
    "print(standardized_data.shape)"
   ]
  },
  {
   "cell_type": "code",
   "execution_count": 196,
   "metadata": {},
   "outputs": [],
   "source": [
    "from sklearn.manifold import TSNE\n",
    "model = TSNE(n_components=2, random_state=0,perplexity = 50)"
   ]
  },
  {
   "cell_type": "code",
   "execution_count": 197,
   "metadata": {},
   "outputs": [],
   "source": [
    "tsne_data = model.fit_transform(standardized_data)"
   ]
  },
  {
   "cell_type": "code",
   "execution_count": 199,
   "metadata": {},
   "outputs": [
    {
     "data": {
      "image/png": "[encoded data removed]",
      "text/plain": [
       "<Figure size 480.75x432 with 1 Axes>"
      ]
     },
     "metadata": {
      "needs_background": "light"
     },
     "output_type": "display_data"
    }
   ],
   "source": [
    "tsne_data = np.vstack((tsne_data.T, y)).T\n",
    "tsne_df = pd.DataFrame(data=tsne_data, columns=(\"Dim1\", \"Dim2\", \"Result\"))\n",
    "tsne_df\n",
    "# Ploting the result of tsne\n",
    "sns.FacetGrid(tsne_df, hue=\"Result\", size=6).map(plt.scatter, 'Dim1', 'Dim2').add_legend()\n",
    "plt.show()"
   ]
  },
  {
   "cell_type": "code",
   "execution_count": 200,
   "metadata": {},
   "outputs": [
    {
     "data": {
      "text/html": [
       "<div>\n",
       "<style scoped>\n",
       "    .dataframe tbody tr th:only-of-type {\n",
       "        vertical-align: middle;\n",
       "    }\n",
       "\n",
       "    .dataframe tbody tr th {\n",
       "        vertical-align: top;\n",
       "    }\n",
       "\n",
       "    .dataframe thead th {\n",
       "        text-align: right;\n",
       "    }\n",
       "</style>\n",
       "<table border=\"1\" class=\"dataframe\">\n",
       "  <thead>\n",
       "    <tr style=\"text-align: right;\">\n",
       "      <th></th>\n",
       "      <th>Dim1</th>\n",
       "      <th>Dim2</th>\n",
       "      <th>Result</th>\n",
       "    </tr>\n",
       "  </thead>\n",
       "  <tbody>\n",
       "    <tr>\n",
       "      <th>0</th>\n",
       "      <td>9.37499</td>\n",
       "      <td>23.2929</td>\n",
       "      <td>h0</td>\n",
       "    </tr>\n",
       "    <tr>\n",
       "      <th>1</th>\n",
       "      <td>36.658</td>\n",
       "      <td>-19.1467</td>\n",
       "      <td>h0</td>\n",
       "    </tr>\n",
       "    <tr>\n",
       "      <th>2</th>\n",
       "      <td>45.988</td>\n",
       "      <td>1.9625</td>\n",
       "      <td>h3</td>\n",
       "    </tr>\n",
       "    <tr>\n",
       "      <th>3</th>\n",
       "      <td>3.24447</td>\n",
       "      <td>-16.9287</td>\n",
       "      <td>h0</td>\n",
       "    </tr>\n",
       "    <tr>\n",
       "      <th>4</th>\n",
       "      <td>6.37432</td>\n",
       "      <td>-8.36117</td>\n",
       "      <td>h0</td>\n",
       "    </tr>\n",
       "  </tbody>\n",
       "</table>\n",
       "</div>"
      ],
      "text/plain": [
       "      Dim1     Dim2 Result\n",
       "0  9.37499  23.2929     h0\n",
       "1   36.658 -19.1467     h0\n",
       "2   45.988   1.9625     h3\n",
       "3  3.24447 -16.9287     h0\n",
       "4  6.37432 -8.36117     h0"
      ]
     },
     "execution_count": 200,
     "metadata": {},
     "output_type": "execute_result"
    }
   ],
   "source": [
    "tsne_df.head()"
   ]
  },
  {
   "cell_type": "code",
   "execution_count": 208,
   "metadata": {},
   "outputs": [],
   "source": [
    "Xt = tsne_df.drop(['Result'], axis = 1)\n",
    "yt = tsne_df['Result']"
   ]
  },
  {
   "cell_type": "code",
   "execution_count": 209,
   "metadata": {},
   "outputs": [],
   "source": [
    "Xt_train,Xt_valid,yt_train,yt_valid = train_test_split(Xt,yt,random_state = 7)"
   ]
  },
  {
   "cell_type": "code",
   "execution_count": 210,
   "metadata": {},
   "outputs": [
    {
     "name": "stdout",
     "output_type": "stream",
     "text": [
      "accuracy_score 0.4595300261096606\n"
     ]
    }
   ],
   "source": [
    "#Calculating accuracy on validation set.\n",
    "model = RandomForestClassifier(random_state=100, max_depth=4, n_estimators=20)\n",
    "model.fit(Xt_train, yt_train)\n",
    "pred_test = model.predict(Xt_valid)\n",
    "score = accuracy_score(yt_valid,pred_test)\n",
    "print('accuracy_score',score)"
   ]
  },
  {
   "cell_type": "code",
   "execution_count": 211,
   "metadata": {},
   "outputs": [
    {
     "name": "stdout",
     "output_type": "stream",
     "text": [
      "accuracy_score 0.5\n"
     ]
    }
   ],
   "source": [
    "#Calculating accuracy on training set.\n",
    "model = RandomForestClassifier(random_state=100, max_depth=4, n_estimators=20)\n",
    "model.fit(Xt_train, yt_train)\n",
    "pred_test = model.predict(Xt_train)\n",
    "score = accuracy_score(yt_train,pred_test)\n",
    "print('accuracy_score',score)"
   ]
  }
 ],
 "metadata": {
  "kernelspec": {
   "display_name": "Python 3",
   "language": "python",
   "name": "python3"
  },
  "language_info": {
   "codemirror_mode": {
    "name": "ipython",
    "version": 3
   },
   "file_extension": ".py",
   "mimetype": "text/x-python",
   "name": "python",
   "nbconvert_exporter": "python",
   "pygments_lexer": "ipython3",
   "version": "3.7.3"
  }
 },
 "nbformat": 4,
 "nbformat_minor": 2
}
